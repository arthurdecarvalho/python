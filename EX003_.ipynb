{
  "nbformat": 4,
  "nbformat_minor": 0,
  "metadata": {
    "colab": {
      "name": "EX003..ipynb",
      "provenance": [],
      "authorship_tag": "ABX9TyN/AFm/tY7KQrbvr27urRvO",
      "include_colab_link": true
    },
    "kernelspec": {
      "name": "python3",
      "display_name": "Python 3"
    },
    "language_info": {
      "name": "python"
    }
  },
  "cells": [
    {
      "cell_type": "markdown",
      "metadata": {
        "id": "view-in-github",
        "colab_type": "text"
      },
      "source": [
        "<a href=\"https://colab.research.google.com/github/arthurdecarvalho/python/blob/main/EX003_.ipynb\" target=\"_parent\"><img src=\"https://colab.research.google.com/assets/colab-badge.svg\" alt=\"Open In Colab\"/></a>"
      ]
    },
    {
      "cell_type": "markdown",
      "metadata": {
        "id": "ZWjpEV6fvkTa"
      },
      "source": [
        "##EX003\n",
        "Crie um programa que leia dois numeros e mostre a soma entre eles."
      ]
    },
    {
      "cell_type": "code",
      "metadata": {
        "id": "hgRZPqLvvemH"
      },
      "source": [
        "#Para numeros inteiros utilizar o tipo primitivo \"int\".\n",
        "#Para numeros reais utilizar \"float\"\n",
        "a = int(input('Digite um valor:'))\n",
        "b = int(input('Digite outro valor:'))\n",
        "s = a + b\n",
        "print('A soma entre {} e {} é igual a {}!'.format(a,b,s))"
      ],
      "execution_count": null,
      "outputs": []
    }
  ]
}