{
  "nbformat": 4,
  "nbformat_minor": 0,
  "metadata": {
    "colab": {
      "name": "EX010.ipynb",
      "provenance": [],
      "authorship_tag": "ABX9TyNleuUEDdoLuxXwKAylhXJ6",
      "include_colab_link": true
    },
    "kernelspec": {
      "name": "python3",
      "display_name": "Python 3"
    },
    "language_info": {
      "name": "python"
    }
  },
  "cells": [
    {
      "cell_type": "markdown",
      "metadata": {
        "id": "view-in-github",
        "colab_type": "text"
      },
      "source": [
        "<a href=\"https://colab.research.google.com/github/arthurdecarvalho/python/blob/main/EX010.ipynb\" target=\"_parent\"><img src=\"https://colab.research.google.com/assets/colab-badge.svg\" alt=\"Open In Colab\"/></a>"
      ]
    },
    {
      "cell_type": "markdown",
      "metadata": {
        "id": "TqqWTLG_FKJc"
      },
      "source": [
        "##EX011\n",
        "Faça um programa que leia a largura e a alura de uma parede em metros, calcule a sua área e a quantidade de tinta necessária para pintá-la. Sabendo que cada litro de tinta, pinta uma área de 2m²."
      ]
    },
    {
      "cell_type": "code",
      "metadata": {
        "colab": {
          "base_uri": "https://localhost:8080/"
        },
        "id": "JLe4ErUtxJri",
        "outputId": "1d3d56ad-bf74-44a8-bdb6-8d8a2b608aa5"
      },
      "source": [
        "largura = float(input('Largura da parede: '))\n",
        "altura = float(input('Altura da parede'))\n",
        "area = largura * altura\n",
        "rendimento = 2\n",
        "tinta = area / rendimento\n",
        "print(f'Sua parede tem dimensão de {largura}m x {altura}m e sua área é de {area}m².')\n",
        "print(f'Para pintar essa parede, você precisará de {tinta} litros de tinra.')"
      ],
      "execution_count": 1,
      "outputs": [
        {
          "output_type": "stream",
          "text": [
            "Largura da parede: 10\n",
            "Altura da parede10\n",
            "Sua parede tem dimensão de 10.0m x 10.0m e sua área é de 100.0m².\n",
            "Para pinta essa parede, você precisará de 50.0 litros de tinra.\n"
          ],
          "name": "stdout"
        }
      ]
    },
    {
      "cell_type": "code",
      "metadata": {
        "id": "55hYp7ZuHR6O"
      },
      "source": [
        ""
      ],
      "execution_count": null,
      "outputs": []
    }
  ]
}