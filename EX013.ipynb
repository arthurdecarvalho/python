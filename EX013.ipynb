{
  "nbformat": 4,
  "nbformat_minor": 0,
  "metadata": {
    "colab": {
      "name": "EX013.ipynb",
      "provenance": [],
      "authorship_tag": "ABX9TyMq7oNWocVn/Zs6stCufAEd",
      "include_colab_link": true
    },
    "kernelspec": {
      "name": "python3",
      "display_name": "Python 3"
    },
    "language_info": {
      "name": "python"
    }
  },
  "cells": [
    {
      "cell_type": "markdown",
      "metadata": {
        "id": "view-in-github",
        "colab_type": "text"
      },
      "source": [
        "<a href=\"https://colab.research.google.com/github/arthurdecarvalho/python/blob/main/EX013.ipynb\" target=\"_parent\"><img src=\"https://colab.research.google.com/assets/colab-badge.svg\" alt=\"Open In Colab\"/></a>"
      ]
    },
    {
      "cell_type": "markdown",
      "metadata": {
        "id": "_8hhY0U29B2c"
      },
      "source": [
        "##EX013\n",
        "Faça um algoritmo que leia o salário de um funcionário e mostre seu novo salário com 15% de aumento."
      ]
    },
    {
      "cell_type": "code",
      "metadata": {
        "colab": {
          "base_uri": "https://localhost:8080/"
        },
        "id": "5sZVcd6F84ZL",
        "outputId": "e3c4197c-6f8f-4bcd-deed-2df3d093f004"
      },
      "source": [
        "salario = float(input('Qual o salário do funcionário? R$'))\n",
        "aumento = 15\n",
        "reajuste = ((aumento / 100) + 1)\n",
        "novo_salario = (salario * reajuste)\n",
        "print(f'O salário do funcionário era de R${salario:.2f} e com {aumento}% de aumento, passará a ser de R${novo_salario:.2f}.')"
      ],
      "execution_count": 15,
      "outputs": [
        {
          "output_type": "stream",
          "text": [
            "Qual o salário do funcionário? R$7000\n",
            "O salário do funcionário era de R$7000.00 e com 15% de aumento, passará a ser de R$8050.00.\n"
          ],
          "name": "stdout"
        }
      ]
    },
    {
      "cell_type": "code",
      "metadata": {
        "id": "46lUrcn_-gOD"
      },
      "source": [
        ""
      ],
      "execution_count": null,
      "outputs": []
    }
  ]
}