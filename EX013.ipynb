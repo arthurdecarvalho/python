{
  "nbformat": 4,
  "nbformat_minor": 0,
  "metadata": {
    "colab": {
      "name": "EX013.ipynb",
      "provenance": [],
      "authorship_tag": "ABX9TyNiyIT8mV0wxnydOuRjfHXz",
      "include_colab_link": true
    },
    "kernelspec": {
      "name": "python3",
      "display_name": "Python 3"
    },
    "language_info": {
      "name": "python"
    }
  },
  "cells": [
    {
      "cell_type": "markdown",
      "metadata": {
        "id": "view-in-github",
        "colab_type": "text"
      },
      "source": [
        "<a href=\"https://colab.research.google.com/github/arthurdecarvalho/python/blob/main/EX013.ipynb\" target=\"_parent\"><img src=\"https://colab.research.google.com/assets/colab-badge.svg\" alt=\"Open In Colab\"/></a>"
      ]
    },
    {
      "cell_type": "markdown",
      "metadata": {
        "id": "_8hhY0U29B2c"
      },
      "source": [
        "##EX013\n",
        "Faça um algoritmo que leia o salário de um funcionário e mostre seu novo salário com 15% de aumento."
      ]
    },
    {
      "cell_type": "code",
      "metadata": {
        "colab": {
          "base_uri": "https://localhost:8080/"
        },
        "id": "5sZVcd6F84ZL",
        "outputId": "6dd350ea-c2fb-42e1-e756-a6720b64197a"
      },
      "source": [
        "salario = int(input('Digite seu salário: R$'))\n",
        "aumento = 15\n",
        "reajuste = ((aumento / 100) + 1)\n",
        "novo_salario = (salario * reajuste)\n",
        "print(f'O seu salário era de R${salario:.2f} e com {aumento}% de aumento, passará a ser de R${novo_salario:.2f}.')"
      ],
      "execution_count": 4,
      "outputs": [
        {
          "output_type": "stream",
          "text": [
            "Digite seu salário: R$3700\n",
            "O seu salário era de R$3700.00 e com 15% de aumento, passará a ser de R$4255.00.\n"
          ],
          "name": "stdout"
        }
      ]
    },
    {
      "cell_type": "code",
      "metadata": {
        "id": "46lUrcn_-gOD"
      },
      "source": [
        ""
      ],
      "execution_count": null,
      "outputs": []
    }
  ]
}