{
  "nbformat": 4,
  "nbformat_minor": 0,
  "metadata": {
    "colab": {
      "name": "EX014.ipynb",
      "provenance": [],
      "authorship_tag": "ABX9TyMYddcwNLiXvPGNF5s0hXiI",
      "include_colab_link": true
    },
    "kernelspec": {
      "name": "python3",
      "display_name": "Python 3"
    },
    "language_info": {
      "name": "python"
    }
  },
  "cells": [
    {
      "cell_type": "markdown",
      "metadata": {
        "id": "view-in-github",
        "colab_type": "text"
      },
      "source": [
        "<a href=\"https://colab.research.google.com/github/arthurdecarvalho/python/blob/main/EX014.ipynb\" target=\"_parent\"><img src=\"https://colab.research.google.com/assets/colab-badge.svg\" alt=\"Open In Colab\"/></a>"
      ]
    },
    {
      "cell_type": "markdown",
      "metadata": {
        "id": "-4gXlrEPCrGO"
      },
      "source": [
        "##EX014\n",
        "Escreva um programa que converta uma temperatura digitada em °C e converta para °F."
      ]
    },
    {
      "cell_type": "code",
      "metadata": {
        "colab": {
          "base_uri": "https://localhost:8080/"
        },
        "id": "iwYc33SACjsp",
        "outputId": "9888aa13-78c0-499d-8c9d-957f8b4a8bf7"
      },
      "source": [
        "c = float(input('Informe a temperatura em °C: '))\n",
        "f = ((9 * c) / 5) + 32\n",
        "print(f'A temperatura de {c}°C corresponde a {f}°F!')"
      ],
      "execution_count": 3,
      "outputs": [
        {
          "output_type": "stream",
          "text": [
            "Informe a temperatura em °C: 45\n",
            "A temperatura de 45.0°C corresponde a 113.0°F!\n"
          ],
          "name": "stdout"
        }
      ]
    },
    {
      "cell_type": "code",
      "metadata": {
        "id": "VYpjLhWXD-ZS"
      },
      "source": [
        ""
      ],
      "execution_count": null,
      "outputs": []
    }
  ]
}