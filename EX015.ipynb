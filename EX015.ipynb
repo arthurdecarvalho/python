{
  "nbformat": 4,
  "nbformat_minor": 0,
  "metadata": {
    "colab": {
      "name": "EX015.ipynb",
      "provenance": [],
      "authorship_tag": "ABX9TyPIDF+US9PiB0Y7u6yFAVuL",
      "include_colab_link": true
    },
    "kernelspec": {
      "name": "python3",
      "display_name": "Python 3"
    },
    "language_info": {
      "name": "python"
    }
  },
  "cells": [
    {
      "cell_type": "markdown",
      "metadata": {
        "id": "view-in-github",
        "colab_type": "text"
      },
      "source": [
        "<a href=\"https://colab.research.google.com/github/arthurdecarvalho/python/blob/main/EX015.ipynb\" target=\"_parent\"><img src=\"https://colab.research.google.com/assets/colab-badge.svg\" alt=\"Open In Colab\"/></a>"
      ]
    },
    {
      "cell_type": "markdown",
      "metadata": {
        "id": "13sfSoRkEhEE"
      },
      "source": [
        "##EX015\n",
        "Escreva um programa que pergunte a quantidade de km percorridos por um carro alugado e  a quantidade de dias pelos quais ele foi alugado. Calcule o preco a pagar, sabendo que o carro custa 60 reais por dia e 15 centavos por km rodado."
      ]
    },
    {
      "cell_type": "code",
      "metadata": {
        "colab": {
          "base_uri": "https://localhost:8080/"
        },
        "id": "ZyjBVXnFEen-",
        "outputId": "35919120-3b7a-4d39-f868-9cb05f3ea8f1"
      },
      "source": [
        "km_percorridos = float(input('Qual a quantidade de km rodados: '))\n",
        "dias = int(input('Quantos dias alugados? '))\n",
        "custo_km  = 0.15\n",
        "custo_dia = 60\n",
        "valor_final = (km_percorridos * custo_km) + (dias * custo_dia)\n",
        "\n",
        "print(f'O total a pagar é de R${valor_final:.2f}.')"
      ],
      "execution_count": 6,
      "outputs": [
        {
          "output_type": "stream",
          "text": [
            "Qual a quantidade de km rodados: 700\n",
            "Quantos dias alugados? 15\n",
            "O total a pagar é de R$1005.00.\n"
          ],
          "name": "stdout"
        }
      ]
    },
    {
      "cell_type": "code",
      "metadata": {
        "id": "ZoHXBiFtHu5_"
      },
      "source": [
        ""
      ],
      "execution_count": null,
      "outputs": []
    }
  ]
}