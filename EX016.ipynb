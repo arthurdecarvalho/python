{
  "nbformat": 4,
  "nbformat_minor": 0,
  "metadata": {
    "colab": {
      "name": "EX016.ipynb",
      "provenance": [],
      "authorship_tag": "ABX9TyPYmJgnqdlOiFsgjOpOROU4",
      "include_colab_link": true
    },
    "kernelspec": {
      "name": "python3",
      "display_name": "Python 3"
    },
    "language_info": {
      "name": "python"
    }
  },
  "cells": [
    {
      "cell_type": "markdown",
      "metadata": {
        "id": "view-in-github",
        "colab_type": "text"
      },
      "source": [
        "<a href=\"https://colab.research.google.com/github/arthurdecarvalho/python/blob/main/EX016.ipynb\" target=\"_parent\"><img src=\"https://colab.research.google.com/assets/colab-badge.svg\" alt=\"Open In Colab\"/></a>"
      ]
    },
    {
      "cell_type": "markdown",
      "metadata": {
        "id": "Q1AHqlT4K3dC"
      },
      "source": [
        "##EX016\n",
        "Crie um programa que leia um número Real qualquer pelo teclado e mostre na tela a sua porção Inteira.\n",
        "\n",
        "Ex: Digite um número: 6.127\n",
        "O número 6.127 tem a parte inteira 6.\n"
      ]
    },
    {
      "cell_type": "code",
      "metadata": {
        "colab": {
          "base_uri": "https://localhost:8080/"
        },
        "id": "UqMAdpW7K0w-",
        "outputId": "e1e6d334-024d-46e0-9d90-1d33f16e4f90"
      },
      "source": [
        "# A dica aqui é importar a biblioteca \"math\"\n",
        "# Com ela podemo utlizar a ferramenta math.trunc(), o recurso \"trunc\" = 'truncate' permite \"cortar\" a parte inteira do número.\n",
        "from math import trunc\n",
        "num = float(input('Digite um valor: '))\n",
        "print('O valor digitado foi {} e a sua porção inteira é {}'.format(num, trunc(num)))"
      ],
      "execution_count": 2,
      "outputs": [
        {
          "output_type": "stream",
          "text": [
            "Digite um valor: 3.141592\n",
            "O valor digitado foi 3.141592 e a sua porção inteira é 3\n"
          ],
          "name": "stdout"
        }
      ]
    },
    {
      "cell_type": "code",
      "metadata": {
        "colab": {
          "base_uri": "https://localhost:8080/"
        },
        "id": "C_rIPeUwNGVr",
        "outputId": "672b4e87-fec1-4580-f4e3-481fb6501f24"
      },
      "source": [
        "from math import trunc\n",
        "num = float(input('Digite um valor: '))\n",
        "print(f'O valor digitado foi {num} e a sua porção inteira é {trunc(num)}')"
      ],
      "execution_count": 3,
      "outputs": [
        {
          "output_type": "stream",
          "text": [
            "Digite um valor: 3.141592\n",
            "O valor digitado foi 3.141592 e a sua porção inteira é 3\n"
          ],
          "name": "stdout"
        }
      ]
    },
    {
      "cell_type": "code",
      "metadata": {
        "id": "b0BZ8vhcOOHr"
      },
      "source": [
        ""
      ],
      "execution_count": null,
      "outputs": []
    }
  ]
}