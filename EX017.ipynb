{
  "nbformat": 4,
  "nbformat_minor": 0,
  "metadata": {
    "colab": {
      "name": "EX017.ipynb",
      "provenance": [],
      "authorship_tag": "ABX9TyOap8Ayek2w8Nw0Nn1iHpAs",
      "include_colab_link": true
    },
    "kernelspec": {
      "name": "python3",
      "display_name": "Python 3"
    },
    "language_info": {
      "name": "python"
    }
  },
  "cells": [
    {
      "cell_type": "markdown",
      "metadata": {
        "id": "view-in-github",
        "colab_type": "text"
      },
      "source": [
        "<a href=\"https://colab.research.google.com/github/arthurdecarvalho/python/blob/main/EX017.ipynb\" target=\"_parent\"><img src=\"https://colab.research.google.com/assets/colab-badge.svg\" alt=\"Open In Colab\"/></a>"
      ]
    },
    {
      "cell_type": "markdown",
      "metadata": {
        "id": "-GIoxSYsiKcY"
      },
      "source": [
        "##EX017\n",
        "Faça um programa que leia o comprimento do cateto oposto e do cateto adjacente de um triângulo, calcule e mostre o comprimento da hipotenusa."
      ]
    },
    {
      "cell_type": "code",
      "metadata": {
        "colab": {
          "base_uri": "https://localhost:8080/"
        },
        "id": "LgRU-Eqgh5qj",
        "outputId": "1c5c1e3c-e41b-4d8b-aa59-03e53210e0d2"
      },
      "source": [
        "co = float(input('Comprimento do cateto oposto: '))\n",
        "ca = float(input('Comprimento do cateto adjacente: '))\n",
        "hip = (co ** 2 + ca ** 2) ** (1/2)\n",
        "print(f'A hipotenusa vai medir {hip:.2f}')"
      ],
      "execution_count": 1,
      "outputs": [
        {
          "output_type": "stream",
          "text": [
            "Comprimento do cateto oposto: 10.5\n",
            "Comprimento do cateto adjacente: 12\n",
            "A hipotenusa vai medir 15.95\n"
          ],
          "name": "stdout"
        }
      ]
    },
    {
      "cell_type": "code",
      "metadata": {
        "colab": {
          "base_uri": "https://localhost:8080/"
        },
        "id": "Z2qdwFcpwcjj",
        "outputId": "65f462ac-d0ab-4134-b833-716ec3f2bd79"
      },
      "source": [
        "#solução alternativa importando da biblioteca \"math\" a ferramenta \"hypot\".\n",
        "from math import hypot\n",
        "co = float(input('Comprimento do cateto oposto: '))\n",
        "ca = float(input('Comprimento do cateto adjacente: '))\n",
        "hip = hypot(co, ca)\n",
        "print(f'A hipotunesa vai medir {hip:.2f}')"
      ],
      "execution_count": 4,
      "outputs": [
        {
          "output_type": "stream",
          "text": [
            "Comprimento do cateto oposto: 20.32\n",
            "Comprimento do cateto adjacente: 30.32\n",
            "A hipotunesa vai medir 36.50\n"
          ],
          "name": "stdout"
        }
      ]
    }
  ]
}