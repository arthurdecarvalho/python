{
  "nbformat": 4,
  "nbformat_minor": 0,
  "metadata": {
    "colab": {
      "name": "EX018.ipynb",
      "provenance": [],
      "authorship_tag": "ABX9TyNL34hLRb+l1nK02HcIT8zC",
      "include_colab_link": true
    },
    "kernelspec": {
      "name": "python3",
      "display_name": "Python 3"
    },
    "language_info": {
      "name": "python"
    }
  },
  "cells": [
    {
      "cell_type": "markdown",
      "metadata": {
        "id": "view-in-github",
        "colab_type": "text"
      },
      "source": [
        "<a href=\"https://colab.research.google.com/github/arthurdecarvalho/python/blob/main/EX018.ipynb\" target=\"_parent\"><img src=\"https://colab.research.google.com/assets/colab-badge.svg\" alt=\"Open In Colab\"/></a>"
      ]
    },
    {
      "cell_type": "markdown",
      "metadata": {
        "id": "3fMP9C_czId1"
      },
      "source": [
        "##EX018\n",
        "Faça um programa qie leia um ângulo qualquer e mostre na tela o valor do seno, cosseno e tangente desse angulo."
      ]
    },
    {
      "cell_type": "code",
      "metadata": {
        "colab": {
          "base_uri": "https://localhost:8080/"
        },
        "id": "efQuVHZ0ys4l",
        "outputId": "6cf2b4d1-6f9b-4c2b-cd32-237d099196b8"
      },
      "source": [
        "import math\n",
        "ang = float(input('Digite o ângulo que você deseja: '))\n",
        "sen = math.sin(math.radians(ang))\n",
        "print(f'O angulo de {ang} tem o SENO de {sen:.2f}')\n",
        "cos = math.cos(math.radians(ang))\n",
        "print(f'O angulo de {ang} tem o COSSENO de {cos:.2f}')\n",
        "tan = math.tan(math.radians(ang))\n",
        "print(f'O angulo de {ang} tem a TANGENTE de {tan:.2f}')"
      ],
      "execution_count": 6,
      "outputs": [
        {
          "output_type": "stream",
          "text": [
            "Digite o ângulo que você deseja: 30\n",
            "O angulo de 30.0 tem o SENO de 0.50\n",
            "O angulo de 30.0 tem o COSSENO de 0.87\n",
            "O angulo de 30.0 tem a TANGENTE de 0.58\n"
          ],
          "name": "stdout"
        }
      ]
    },
    {
      "cell_type": "code",
      "metadata": {
        "id": "Qu9yBaMM1Pq5"
      },
      "source": [
        ""
      ],
      "execution_count": null,
      "outputs": []
    }
  ]
}