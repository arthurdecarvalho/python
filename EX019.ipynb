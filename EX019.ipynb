{
  "nbformat": 4,
  "nbformat_minor": 0,
  "metadata": {
    "colab": {
      "name": "EX019.ipynb",
      "provenance": [],
      "authorship_tag": "ABX9TyMdfhI059xI+kl1ppqq8Dfo",
      "include_colab_link": true
    },
    "kernelspec": {
      "name": "python3",
      "display_name": "Python 3"
    },
    "language_info": {
      "name": "python"
    }
  },
  "cells": [
    {
      "cell_type": "markdown",
      "metadata": {
        "id": "view-in-github",
        "colab_type": "text"
      },
      "source": [
        "<a href=\"https://colab.research.google.com/github/arthurdecarvalho/python/blob/main/EX019.ipynb\" target=\"_parent\"><img src=\"https://colab.research.google.com/assets/colab-badge.svg\" alt=\"Open In Colab\"/></a>"
      ]
    },
    {
      "cell_type": "markdown",
      "metadata": {
        "id": "CpGRm1vl-3MW"
      },
      "source": [
        "##EX019\n",
        "Um professor quer sortear um dos seus quatro alunos para apagar o quadro. Faça um programa que ajude ele, lendo o nome deles e escrevendo o nome do escolhido.\n",
        "\n"
      ]
    },
    {
      "cell_type": "code",
      "metadata": {
        "colab": {
          "base_uri": "https://localhost:8080/"
        },
        "id": "4vSlVxYe5m8a",
        "outputId": "97ed00e7-7270-445e-d0f4-0a6d9e50c0c1"
      },
      "source": [
        "import random\n",
        "n1 = str(input('Primeiro aluno: '))\n",
        "n2 = str(input('Segundo aluno: '))\n",
        "n3 = str(input('terceiro aluno: '))\n",
        "n4 = str(input('Quarto aluno: '))\n",
        "lista = [n1, n2, n3, n4]\n",
        "escolhido = random.choice(lista)\n",
        "print(f'O aluno escolhido foi {escolhido}')"
      ],
      "execution_count": 17,
      "outputs": [
        {
          "output_type": "stream",
          "text": [
            "Primeiro aluno: Roberta\n",
            "Segundo aluno: Arthur\n",
            "terceiro aluno: Ana\n",
            "Quarto aluno: Carmen\n",
            "O aluno escolhido foi Ana\n"
          ],
          "name": "stdout"
        }
      ]
    },
    {
      "cell_type": "code",
      "metadata": {
        "colab": {
          "base_uri": "https://localhost:8080/"
        },
        "id": "ZGytgcj8Ex6i",
        "outputId": "9739054f-808d-4cbf-d012-d220ca050e7b"
      },
      "source": [
        "from random import choice\n",
        "n1 = str(input('Primeiro aluno: '))\n",
        "n2 = str(input('Segundo aluno: '))\n",
        "n3 = str(input('Terceiro aluno: '))\n",
        "n4 = str(input('Quarto aluno: '))\n",
        "lista = [n1, n2, n3, n4]\n",
        "escolhido = choice(lista)\n",
        "print(f'O aluno escolhido foi {escolhido}')"
      ],
      "execution_count": 18,
      "outputs": [
        {
          "output_type": "stream",
          "text": [
            "Primeiro aluno: Arthur\n",
            "Segundo aluno: Linda\n",
            "Terceiro aluno: Camila\n",
            "Quarto aluno: Rafael\n",
            "O aluno escolhido foi Rafael\n"
          ],
          "name": "stdout"
        }
      ]
    },
    {
      "cell_type": "code",
      "metadata": {
        "id": "gUCLs74OGtfo"
      },
      "source": [
        ""
      ],
      "execution_count": null,
      "outputs": []
    }
  ]
}