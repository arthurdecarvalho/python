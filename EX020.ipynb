{
  "nbformat": 4,
  "nbformat_minor": 0,
  "metadata": {
    "colab": {
      "name": "EX020.ipynb",
      "provenance": [],
      "authorship_tag": "ABX9TyNkP/hzOyDHQO++ukd3lQXt",
      "include_colab_link": true
    },
    "kernelspec": {
      "name": "python3",
      "display_name": "Python 3"
    },
    "language_info": {
      "name": "python"
    }
  },
  "cells": [
    {
      "cell_type": "markdown",
      "metadata": {
        "id": "view-in-github",
        "colab_type": "text"
      },
      "source": [
        "<a href=\"https://colab.research.google.com/github/arthurdecarvalho/python/blob/main/EX020.ipynb\" target=\"_parent\"><img src=\"https://colab.research.google.com/assets/colab-badge.svg\" alt=\"Open In Colab\"/></a>"
      ]
    },
    {
      "cell_type": "markdown",
      "metadata": {
        "id": "SipvBQ6tJDfT"
      },
      "source": [
        "##EX020\n",
        "O mesmo professor do desafio anterior quer sortear a ordem de apresentação de trabalhos dos alunos. Faça um programa que leia o nome dos quatro alunos e mostre a ordem sorteada."
      ]
    },
    {
      "cell_type": "code",
      "metadata": {
        "colab": {
          "base_uri": "https://localhost:8080/"
        },
        "id": "E9-jwhjfJBpe",
        "outputId": "fcd4fe8a-741a-435e-c4db-1b5d1b143bec"
      },
      "source": [
        "import random\n",
        "n1 = str(input('Primeiro aluno: '))\n",
        "n2 = str(input('Segundo aluno: '))\n",
        "n3 = str(input('Terceiro aluno: '))\n",
        "n4 = str(input('Quarto aluno: '))\n",
        "lista = [n1, n2, n3, n4]\n",
        "random.shuffle(lista)\n",
        "print('A ordem de apresentação será: ')\n",
        "print(lista)"
      ],
      "execution_count": 16,
      "outputs": [
        {
          "output_type": "stream",
          "text": [
            "Primeiro aluno: Arthur\n",
            "Segundo aluno: Leticia\n",
            "Terceiro aluno: Camila\n",
            "Quarto aluno: Regina\n",
            "A ordem de apresentação será: \n",
            "['Leticia', 'Camila', 'Regina', 'Arthur']\n"
          ],
          "name": "stdout"
        }
      ]
    },
    {
      "cell_type": "code",
      "metadata": {
        "colab": {
          "base_uri": "https://localhost:8080/"
        },
        "id": "UOWGn1zgL02N",
        "outputId": "ac8f766a-300b-440a-ee0c-37f1be6db792"
      },
      "source": [
        "from random import shuffle\n",
        "n1 = str(input('Primeiro aluno: '))\n",
        "n2 = str(input('Segundo aluno: '))\n",
        "n3 = str(input('Terceiro aluno: '))\n",
        "n4 = str(input('Quarto aluno: '))\n",
        "lista = [n1, n2, n3, n4]\n",
        "shuffle(lista)\n",
        "print('A ordem de apresentação será: ')\n",
        "print(lista)\n"
      ],
      "execution_count": 23,
      "outputs": [
        {
          "output_type": "stream",
          "text": [
            "Primeiro aluno: Arthur\n",
            "Segundo aluno: Leticia\n",
            "Terceiro aluno: Camila\n",
            "Quarto aluno: Regina\n",
            "A ordem de apresentação será: \n",
            "['Camila', 'Regina', 'Arthur', 'Leticia']\n"
          ],
          "name": "stdout"
        }
      ]
    },
    {
      "cell_type": "code",
      "metadata": {
        "id": "AdntxsC_M1Hg"
      },
      "source": [
        ""
      ],
      "execution_count": null,
      "outputs": []
    }
  ]
}