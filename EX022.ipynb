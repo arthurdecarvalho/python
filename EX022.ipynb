{
  "nbformat": 4,
  "nbformat_minor": 0,
  "metadata": {
    "colab": {
      "name": "EX022.ipynb",
      "provenance": [],
      "authorship_tag": "ABX9TyOPpbnTJDiPymHiCcNyJDHz",
      "include_colab_link": true
    },
    "kernelspec": {
      "name": "python3",
      "display_name": "Python 3"
    },
    "language_info": {
      "name": "python"
    }
  },
  "cells": [
    {
      "cell_type": "markdown",
      "metadata": {
        "id": "view-in-github",
        "colab_type": "text"
      },
      "source": [
        "<a href=\"https://colab.research.google.com/github/arthurdecarvalho/python/blob/main/EX022.ipynb\" target=\"_parent\"><img src=\"https://colab.research.google.com/assets/colab-badge.svg\" alt=\"Open In Colab\"/></a>"
      ]
    },
    {
      "cell_type": "markdown",
      "metadata": {
        "id": "WthSbdf8W9Xm"
      },
      "source": [
        "##EX022\n",
        "Crie um programa que leia o nome completo de uma pessoa e mostre:\n",
        "\n",
        "O nome com todas as letras maiusculas e minúsculas.\n",
        "\n",
        "Quantas letras ao todo (sem considerar espaços).\n",
        "\n",
        "Quantas letras tem o primeiro nome."
      ]
    },
    {
      "cell_type": "code",
      "metadata": {
        "colab": {
          "base_uri": "https://localhost:8080/"
        },
        "id": "Sz1kFG_vWcOs",
        "outputId": "ef4a516c-5837-4bc9-befc-0d88973ef807"
      },
      "source": [
        "nome = str(input('Digite seu nome completo: ')).strip()\n",
        "print('Analisando seu nome...')\n",
        "print('Seu nome em máiusculas é {}'.format(nome.upper()))\n",
        "print('Seu nome em minúsculas é {}'.format(nome. lower()))\n",
        "print('Seu nome tem ao todo {} letras'.format(len(nome) - nome.count(' ')))\n",
        "print('Seu primeito nome tem {} letras'.format(nome.find(' ')))"
      ],
      "execution_count": 11,
      "outputs": [
        {
          "output_type": "stream",
          "text": [
            "Digite seu nome completo: Camila Robira de Carvalho\n",
            "Analisando seu nome...\n",
            "Seu nome em máiusculas é CAMILA ROBIRA DE CARVALHO\n",
            "Seu nome em minúsculas é camila robira de carvalho\n",
            "Seu nome tem ao todo 22 letras\n",
            "Seu primeito nome tem 6 letras\n"
          ],
          "name": "stdout"
        }
      ]
    },
    {
      "cell_type": "code",
      "metadata": {
        "id": "AjO9--GiY-gw"
      },
      "source": [
        ""
      ],
      "execution_count": 11,
      "outputs": []
    }
  ]
}