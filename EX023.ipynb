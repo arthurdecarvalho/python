{
  "nbformat": 4,
  "nbformat_minor": 0,
  "metadata": {
    "colab": {
      "name": "EX023.ipynb",
      "provenance": [],
      "authorship_tag": "ABX9TyNSA3SGBWF8gHkOqR0kS9aV",
      "include_colab_link": true
    },
    "kernelspec": {
      "name": "python3",
      "display_name": "Python 3"
    },
    "language_info": {
      "name": "python"
    }
  },
  "cells": [
    {
      "cell_type": "markdown",
      "metadata": {
        "id": "view-in-github",
        "colab_type": "text"
      },
      "source": [
        "<a href=\"https://colab.research.google.com/github/arthurdecarvalho/python/blob/main/EX023.ipynb\" target=\"_parent\"><img src=\"https://colab.research.google.com/assets/colab-badge.svg\" alt=\"Open In Colab\"/></a>"
      ]
    },
    {
      "cell_type": "markdown",
      "metadata": {
        "id": "toaZyHWIVtXP"
      },
      "source": [
        "##EX023\n",
        "Faça um programa que leia um número de 0 a 9999 e mostre na tela cad um dos digitos separados.\n",
        "\n",
        "Ex:\n",
        "\n",
        "Digite um número: 1834\n",
        "\n",
        "unidade: 4\n",
        "dezena: 3\n",
        "centena: 8\n",
        "milhar: 1\n"
      ]
    },
    {
      "cell_type": "code",
      "metadata": {
        "colab": {
          "base_uri": "https://localhost:8080/"
        },
        "id": "b7EJ7D6nVdnk",
        "outputId": "218ae0a0-d899-45a7-a7c6-5386af7c4c75"
      },
      "source": [
        "num = int(input('Informe um número: '))\n",
        "u = num // 1 % 10\n",
        "d = num // 10 % 10\n",
        "c = num // 100 % 10\n",
        "m = num // 1000 % 10\n",
        "print('Analisando o número {}'.format(num))\n",
        "print('unidade: {}'.format(u))\n",
        "print('Dezena: {}'.format(d))\n",
        "print('Centena: {}'.format(c))\n",
        "print('Milhar: {}'.format(m))"
      ],
      "execution_count": 1,
      "outputs": [
        {
          "output_type": "stream",
          "text": [
            "Informe um número: 2154\n",
            "Analisando o número 2154\n",
            "unidade: 4\n",
            "Dezena: 5\n",
            "Centena: 1\n",
            "Milhar: 2\n"
          ],
          "name": "stdout"
        }
      ]
    },
    {
      "cell_type": "code",
      "metadata": {
        "colab": {
          "base_uri": "https://localhost:8080/"
        },
        "id": "T-LncoSOY3oE",
        "outputId": "37315790-9a9f-4031-84a0-5b68486ee59a"
      },
      "source": [
        "num = int(input('Informe um número: '))\n",
        "u = num // 1 % 10\n",
        "d = num // 10 % 10\n",
        "c = num // 100 % 10\n",
        "m = num // 1000 % 10\n",
        "print(f'Analisando o número {num}')\n",
        "print(f'Unidade: {u}')\n",
        "print(f'Dezena: {d}')\n",
        "print(f'Centena: {c}')\n",
        "print(f'Milhar: {m}')"
      ],
      "execution_count": 2,
      "outputs": [
        {
          "output_type": "stream",
          "text": [
            "Informe um número: 7896\n",
            "Analisando o número 7896\n",
            "Unidade: 6\n",
            "Dezena: 9\n",
            "Centena: 8\n",
            "Milhar: 7\n"
          ],
          "name": "stdout"
        }
      ]
    },
    {
      "cell_type": "code",
      "metadata": {
        "id": "_9ioYSm4Z6nT"
      },
      "source": [
        ""
      ],
      "execution_count": null,
      "outputs": []
    }
  ]
}