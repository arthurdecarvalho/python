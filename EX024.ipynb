{
  "nbformat": 4,
  "nbformat_minor": 0,
  "metadata": {
    "colab": {
      "name": "EX024.ipynb",
      "provenance": [],
      "authorship_tag": "ABX9TyNO/Hb+bxyS1as67Xomwnaw",
      "include_colab_link": true
    },
    "kernelspec": {
      "name": "python3",
      "display_name": "Python 3"
    },
    "language_info": {
      "name": "python"
    }
  },
  "cells": [
    {
      "cell_type": "markdown",
      "metadata": {
        "id": "view-in-github",
        "colab_type": "text"
      },
      "source": [
        "<a href=\"https://colab.research.google.com/github/arthurdecarvalho/python/blob/main/EX024.ipynb\" target=\"_parent\"><img src=\"https://colab.research.google.com/assets/colab-badge.svg\" alt=\"Open In Colab\"/></a>"
      ]
    },
    {
      "cell_type": "markdown",
      "metadata": {
        "id": "6lTwyikKaj-q"
      },
      "source": [
        "##EX024\n",
        "Cire um programa que leia o nome de uma cidade e diga se ela começa ou não com o nome \"SANTO\"."
      ]
    },
    {
      "cell_type": "code",
      "metadata": {
        "colab": {
          "base_uri": "https://localhost:8080/"
        },
        "id": "XB4AfhpNaii-",
        "outputId": "45681e8c-4feb-4e9a-ced3-aade45564d4f"
      },
      "source": [
        "#O recurso \".strip()\" elimina da frase digitada qualquer quantidade de espaços iniciais, isto é, antes da primeira palavra.\n",
        "cid = str(input('Em que cidade você nasceu? ')).strip()\n",
        "print(cid[:5].upper() == 'SANTO')"
      ],
      "execution_count": 6,
      "outputs": [
        {
          "output_type": "stream",
          "text": [
            "Em que cidade você nasceu? Santo André\n",
            "True\n"
          ],
          "name": "stdout"
        }
      ]
    },
    {
      "cell_type": "code",
      "metadata": {
        "id": "7-4SBqhSceAK"
      },
      "source": [
        ""
      ],
      "execution_count": 6,
      "outputs": []
    }
  ]
}