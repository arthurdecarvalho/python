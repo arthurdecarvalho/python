{
  "nbformat": 4,
  "nbformat_minor": 0,
  "metadata": {
    "colab": {
      "name": "EX025.ipynb",
      "provenance": [],
      "authorship_tag": "ABX9TyMGKzxe8i6w4plkJOz+G2iB",
      "include_colab_link": true
    },
    "kernelspec": {
      "name": "python3",
      "display_name": "Python 3"
    },
    "language_info": {
      "name": "python"
    }
  },
  "cells": [
    {
      "cell_type": "markdown",
      "metadata": {
        "id": "view-in-github",
        "colab_type": "text"
      },
      "source": [
        "<a href=\"https://colab.research.google.com/github/arthurdecarvalho/python/blob/main/EX025.ipynb\" target=\"_parent\"><img src=\"https://colab.research.google.com/assets/colab-badge.svg\" alt=\"Open In Colab\"/></a>"
      ]
    },
    {
      "cell_type": "markdown",
      "metadata": {
        "id": "hHQ89ugSdcYa"
      },
      "source": [
        "Crie um programka que leia o nome de uma pessoa e diga se ela tem \"SILVA\" no nome."
      ]
    },
    {
      "cell_type": "code",
      "metadata": {
        "colab": {
          "base_uri": "https://localhost:8080/"
        },
        "id": "_whxNUPBdm7c",
        "outputId": "0dacf38a-2583-41d7-9b81-3a9c5d35cd65"
      },
      "source": [
        "#O operador \"in\" verifica se nome passado existe dentro do nome completo digitado.\n",
        "nome = str(input('Qual é o seu nome completo?')).strip()\n",
        "print('Seu nome tem Silva {}'.format('SILVA' in nome.upper()))"
      ],
      "execution_count": 8,
      "outputs": [
        {
          "output_type": "stream",
          "text": [
            "Qual é o seu nome completo?Antonio Silva\n",
            "Seu nome tem Silva True\n"
          ],
          "name": "stdout"
        }
      ]
    },
    {
      "cell_type": "code",
      "metadata": {
        "colab": {
          "base_uri": "https://localhost:8080/"
        },
        "id": "AiGrb15Pe0_t",
        "outputId": "61ccd8ef-c609-4e16-cdf0-ebd126ffebb4"
      },
      "source": [
        "nome = str(input('Qual o seu nome completo? '))\n",
        "print(f'Seu nome tem Sauro {\"sauro\" in nome.lower()}')"
      ],
      "execution_count": 7,
      "outputs": [
        {
          "output_type": "stream",
          "text": [
            "Qual o seu nome completo? Arthur da Silva Sauro\n",
            "Seu nome tem Sauro True\n"
          ],
          "name": "stdout"
        }
      ]
    },
    {
      "cell_type": "code",
      "metadata": {
        "id": "-48Bbs5pfi4W"
      },
      "source": [
        ""
      ],
      "execution_count": null,
      "outputs": []
    }
  ]
}