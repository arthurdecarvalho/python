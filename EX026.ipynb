{
  "nbformat": 4,
  "nbformat_minor": 0,
  "metadata": {
    "colab": {
      "name": "EX026.ipynb",
      "provenance": [],
      "authorship_tag": "ABX9TyPa27VmKPG/xBGeDcZbYpW2",
      "include_colab_link": true
    },
    "kernelspec": {
      "name": "python3",
      "display_name": "Python 3"
    },
    "language_info": {
      "name": "python"
    }
  },
  "cells": [
    {
      "cell_type": "markdown",
      "metadata": {
        "id": "view-in-github",
        "colab_type": "text"
      },
      "source": [
        "<a href=\"https://colab.research.google.com/github/arthurdecarvalho/python/blob/main/EX026.ipynb\" target=\"_parent\"><img src=\"https://colab.research.google.com/assets/colab-badge.svg\" alt=\"Open In Colab\"/></a>"
      ]
    },
    {
      "cell_type": "markdown",
      "metadata": {
        "id": "P0sRtjBQ8gLN"
      },
      "source": [
        "##EX026\n",
        "Faça um programa que leia uma frase pelo teclado e mostre:\n",
        "\n",
        "Quantas vezes aparece a letra \"A\".\\\n",
        "Em que posição ela aparece a primeira vez.\\\n",
        "Em que posição ela aparece a ultima vez."
      ]
    },
    {
      "cell_type": "code",
      "metadata": {
        "colab": {
          "base_uri": "https://localhost:8080/"
        },
        "id": "fScBAhgw8d64",
        "outputId": "1415963c-86f8-4c25-f575-1294fdc4d109"
      },
      "source": [
        "frase = str(input('Digite uma frase: ')).upper().strip()\n",
        "print('A letra A aparece {} vezes na frase.'.format(frase.count('A')))\n",
        "print('A primeira letra A apareceu na posição {}'.format(frase.find('A')+1))\n",
        "print('A última letra A apareceu na posição {}'.format(frase.rfind('A')+1))"
      ],
      "execution_count": 3,
      "outputs": [
        {
          "output_type": "stream",
          "text": [
            "Digite uma frase: Arthur de Carvalho\n",
            "A letra A aparece 3 vezes na frase.\n",
            "A primeira letra A apareceu na posição 1\n",
            "A última letra A apareceu na posição 15\n"
          ],
          "name": "stdout"
        }
      ]
    },
    {
      "cell_type": "code",
      "metadata": {
        "id": "gfsje5prA03Y"
      },
      "source": [
        ""
      ],
      "execution_count": null,
      "outputs": []
    }
  ]
}