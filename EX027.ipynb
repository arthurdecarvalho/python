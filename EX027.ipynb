{
  "nbformat": 4,
  "nbformat_minor": 0,
  "metadata": {
    "colab": {
      "name": "EX027.ipynb",
      "provenance": [],
      "authorship_tag": "ABX9TyMyIdU2UmRuc/n4iUViKWS3",
      "include_colab_link": true
    },
    "kernelspec": {
      "name": "python3",
      "display_name": "Python 3"
    },
    "language_info": {
      "name": "python"
    }
  },
  "cells": [
    {
      "cell_type": "markdown",
      "metadata": {
        "id": "view-in-github",
        "colab_type": "text"
      },
      "source": [
        "<a href=\"https://colab.research.google.com/github/arthurdecarvalho/python/blob/main/EX027.ipynb\" target=\"_parent\"><img src=\"https://colab.research.google.com/assets/colab-badge.svg\" alt=\"Open In Colab\"/></a>"
      ]
    },
    {
      "cell_type": "markdown",
      "metadata": {
        "id": "ZW2CtUu_C8wp"
      },
      "source": [
        "##EX027\n",
        "Faça um programa que leia o nome completo de uma pessoa, mostrando em seguida o primeiro e o último nome separadamente.\\\n",
        "Ex: Ana MAria de Souza\\\n",
        "primeiro = Ana\\\n",
        "último  = Souza"
      ]
    },
    {
      "cell_type": "code",
      "metadata": {
        "colab": {
          "base_uri": "https://localhost:8080/"
        },
        "id": "4ODh6T73DknC",
        "outputId": "a3f82ae0-e536-4dca-e03d-8c999af8c320"
      },
      "source": [
        "n = str(input('Digite seu nome completo: ')).strip()\n",
        "nome = n.split()\n",
        "print('Seu primeiro nome é {}'.format(nome[0]))\n",
        "print('Seu último nome é {}'.format(nome[len(nome)-1]))"
      ],
      "execution_count": 7,
      "outputs": [
        {
          "output_type": "stream",
          "text": [
            "Digite seu nome completo: Leticia de Carvalho\n",
            "Seu primeiro nome é Leticia\n",
            "Seu último nome é Carvalho\n"
          ],
          "name": "stdout"
        }
      ]
    },
    {
      "cell_type": "code",
      "metadata": {
        "id": "Ryh5HIdYEuLP"
      },
      "source": [
        ""
      ],
      "execution_count": null,
      "outputs": []
    }
  ]
}