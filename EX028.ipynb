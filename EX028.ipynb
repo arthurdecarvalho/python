{
  "nbformat": 4,
  "nbformat_minor": 0,
  "metadata": {
    "colab": {
      "name": "EX028.ipynb",
      "provenance": [],
      "authorship_tag": "ABX9TyOCeY2YENyCe2H35kJCQUFb",
      "include_colab_link": true
    },
    "kernelspec": {
      "name": "python3",
      "display_name": "Python 3"
    },
    "language_info": {
      "name": "python"
    }
  },
  "cells": [
    {
      "cell_type": "markdown",
      "metadata": {
        "id": "view-in-github",
        "colab_type": "text"
      },
      "source": [
        "<a href=\"https://colab.research.google.com/github/arthurdecarvalho/python/blob/main/EX028.ipynb\" target=\"_parent\"><img src=\"https://colab.research.google.com/assets/colab-badge.svg\" alt=\"Open In Colab\"/></a>"
      ]
    },
    {
      "cell_type": "markdown",
      "metadata": {
        "id": "kR6FDw5yenCa"
      },
      "source": [
        "##EX028\n",
        "Escreva um programa que faça o computador \"pensar\" em um número inteiro entre 0 e 5 e peça para o usuário tentar descobrir qual foi o número escolhido pelo computador. O programa deverá escrever na tela se o usuário venceu ou perdeu."
      ]
    },
    {
      "cell_type": "code",
      "metadata": {
        "colab": {
          "base_uri": "https://localhost:8080/"
        },
        "id": "3-fAKnPNeqK6",
        "outputId": "f4cb3ede-eacf-484e-87a2-888310b984e3"
      },
      "source": [
        "from random import randint\n",
        "computador = randint(0, 5) #Faz o computador \"PENSAR\"\n",
        "print('-=-' * 20)\n",
        "print('Vou pensar em um número entre 0 e 5. Tente adivinhar...')\n",
        "print('-=-' * 20)\n",
        "jogador = int(input('Em que número eu pensei? ')) # Jogador tenta adivinhar\n",
        "if jogador == computador:\n",
        "  print('Parabens! Você conseguiu me vencer!')\n",
        "else:\n",
        "  print('Ganhei! Eu pensei no número {} e não no {}!'.format(computador, jogador))\n"
      ],
      "execution_count": 2,
      "outputs": [
        {
          "output_type": "stream",
          "text": [
            "-=--=--=--=--=--=--=--=--=--=--=--=--=--=--=--=--=--=--=--=-\n",
            "Vou pensar em um número entre 0 e 5. Tente adivinhar...\n",
            "-=--=--=--=--=--=--=--=--=--=--=--=--=--=--=--=--=--=--=--=-\n",
            "Em que número eu pensei? 5\n",
            "Parabens! Você conseguiu me vencer!\n"
          ],
          "name": "stdout"
        }
      ]
    },
    {
      "cell_type": "code",
      "metadata": {
        "id": "66KZREniinXq"
      },
      "source": [
        ""
      ],
      "execution_count": null,
      "outputs": []
    }
  ]
}