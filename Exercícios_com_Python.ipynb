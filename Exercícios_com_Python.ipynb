{
  "nbformat": 4,
  "nbformat_minor": 0,
  "metadata": {
    "colab": {
      "name": "Exercícios com Python",
      "provenance": []
    },
    "kernelspec": {
      "name": "python3",
      "display_name": "Python 3"
    },
    "language_info": {
      "name": "python"
    }
  },
  "cells": [
    {
      "cell_type": "markdown",
      "metadata": {
        "id": "kjT1HadTLnta"
      },
      "source": [
        "EX001\n"
      ]
    },
    {
      "cell_type": "code",
      "metadata": {
        "colab": {
          "base_uri": "https://localhost:8080/"
        },
        "id": "CqcZhgg0IYuz",
        "outputId": "87366925-27fb-4204-b3eb-c06bee3dcdbb"
      },
      "source": [
        "print('Olá mundo!')"
      ],
      "execution_count": 1,
      "outputs": [
        {
          "output_type": "stream",
          "text": [
            "Olá mundo!\n"
          ],
          "name": "stdout"
        }
      ]
    },
    {
      "cell_type": "code",
      "metadata": {
        "colab": {
          "base_uri": "https://localhost:8080/",
          "height": 35
        },
        "id": "mhgSomOIK4so",
        "outputId": "692a9e7d-15ea-4052-97b0-3a7ef4ac79ed"
      },
      "source": [
        "msg = 'Olá mundo!'\n",
        "msg"
      ],
      "execution_count": 3,
      "outputs": [
        {
          "output_type": "execute_result",
          "data": {
            "application/vnd.google.colaboratory.intrinsic+json": {
              "type": "string"
            },
            "text/plain": [
              "'Olá mundo!'"
            ]
          },
          "metadata": {
            "tags": []
          },
          "execution_count": 3
        }
      ]
    },
    {
      "cell_type": "markdown",
      "metadata": {
        "id": "g_8eJCiNLw2l"
      },
      "source": [
        "##EX002"
      ]
    },
    {
      "cell_type": "code",
      "metadata": {
        "colab": {
          "base_uri": "https://localhost:8080/"
        },
        "id": "bFhF__0lMl_6",
        "outputId": "35cf8095-b35a-4297-b28b-8392b7ec4e66"
      },
      "source": [
        "input('Digite seu nome:')\n",
        "print('Muito prazer, seja bem vindo{}'.format(nome))"
      ],
      "execution_count": 8,
      "outputs": [
        {
          "output_type": "stream",
          "text": [
            "Digite seu nome:Arthur\n",
            "Muito prazer, seja bem vindoArthur\n"
          ],
          "name": "stdout"
        }
      ]
    },
    {
      "cell_type": "code",
      "metadata": {
        "colab": {
          "base_uri": "https://localhost:8080/"
        },
        "id": "r0Whdwx-NL6H",
        "outputId": "2cc39a0c-2e60-4e21-8f65-9d415a46a36f"
      },
      "source": [
        "input('Name:')\n",
        "print('Welcome, {}!'.format(nome))"
      ],
      "execution_count": 9,
      "outputs": [
        {
          "output_type": "stream",
          "text": [
            "Name:Arthur\n",
            "Welcome, Arthur!\n"
          ],
          "name": "stdout"
        }
      ]
    },
    {
      "cell_type": "markdown",
      "metadata": {
        "id": "FmVtkWvbOEth"
      },
      "source": [
        "##EX003.\n",
        "Crie um programa que leia dois numeros e mostre a soma entre eles."
      ]
    },
    {
      "cell_type": "code",
      "metadata": {
        "colab": {
          "base_uri": "https://localhost:8080/"
        },
        "id": "Pi_pn1U_OGuS",
        "outputId": "40e0451b-61bf-45c2-b063-632072be0445"
      },
      "source": [
        "#Para numeros inteiros utilizar o tipo primitivo \"int\".\n",
        "#Para numeros reais utilizar \"float\"\n",
        "a = int(input('Digite um valor:'))\n",
        "b = int(input('Digite outro valor:'))\n",
        "s = a + b\n",
        "print('A soma entre {} e {} é igual a {}!'.format(a,b,s))\n"
      ],
      "execution_count": 17,
      "outputs": [
        {
          "output_type": "stream",
          "text": [
            "Digite um valor:4\n",
            "Digite outro valor:5\n",
            "A soma entre 4 e 5 é igual a 9!\n"
          ],
          "name": "stdout"
        }
      ]
    },
    {
      "cell_type": "code",
      "metadata": {
        "colab": {
          "base_uri": "https://localhost:8080/"
        },
        "id": "eVJh2uByOxPe",
        "outputId": "c0e846f0-ffb2-4401-c265-c0a9097d997b"
      },
      "source": [
        "a = float(input(\"Digite um numero:\"))\n",
        "b = float(input(\"Digite outro numero:\"))\n",
        "s = a + b\n",
        "print(\"A soma entre {} e {} é igual a {}!\".format(a,b,s))"
      ],
      "execution_count": 21,
      "outputs": [
        {
          "output_type": "stream",
          "text": [
            "Digite um numero:14.758\n",
            "Digite outro numero:25.698\n",
            "A soma entre 14.758 e 25.698 é igual a 40.456!\n"
          ],
          "name": "stdout"
        }
      ]
    },
    {
      "cell_type": "code",
      "metadata": {
        "colab": {
          "base_uri": "https://localhost:8080/"
        },
        "id": "jS_1_Ku-SKUr",
        "outputId": "13959e13-6d3d-4302-816b-cc1d6b2ca42f"
      },
      "source": [
        "a = input('Digite seu nome:')\n",
        "b = input('Digite seu sobrenome:')\n",
        "c = a + b\n",
        "print('O seu nome completo é {}!'.format(c))"
      ],
      "execution_count": 25,
      "outputs": [
        {
          "output_type": "stream",
          "text": [
            "Digite seu nome:Arthur\n",
            "Digite seu sobrenome:de Carvalho\n",
            "O seu nome completo é Arthurde Carvalho!\n"
          ],
          "name": "stdout"
        }
      ]
    },
    {
      "cell_type": "markdown",
      "metadata": {
        "id": "-advFM8MTpI7"
      },
      "source": [
        "##EX004\n",
        "Faça um programa que leia algo pelo teclado e mostre na tela o seu tipo primitivo e todos as informações possiveis sobre ele."
      ]
    },
    {
      "cell_type": "code",
      "metadata": {
        "colab": {
          "base_uri": "https://localhost:8080/"
        },
        "id": "FH7-KRlvRwa-",
        "outputId": "0c912f71-518a-4337-c529-8c2faa59ffaf"
      },
      "source": [
        "# o comando input sempre retornará o tipo string.\n",
        "a = input('Digite algo:')\n",
        "print('O tipo primitivo desse valor é', type(a))\n",
        "print('Só tem espaços?', a.isspace())\n",
        "print('É um numero', a.isnumeric())\n",
        "print('É um numero decimal ', a.isdecimal())\n",
        "print('É alfabetico?', a.isalpha())\n",
        "print('É alfanumerico?', a.isalnum())\n",
        "print('Esta em maiusculas?', a.isupper())\n",
        "print('Esta em minusculas?', a.islower())\n",
        "print('Esta captalizada?', a.istitle())\n",
        "print('asci', a.isascii())\n",
        "print('É printavel', a.isprintable())\n"
      ],
      "execution_count": 35,
      "outputs": [
        {
          "output_type": "stream",
          "text": [
            "Digite algo:25\n",
            "O tipo primitivo desse valor é <class 'str'>\n",
            "Só tem espaços? False\n",
            "É um numero True\n",
            "É um numero decimal  True\n",
            "É alfabetico? False\n",
            "É alfanumerico? True\n",
            "Esta em maiusculas? False\n",
            "Esta em minusculas? False\n",
            "Esta captalizada? False\n",
            "asci True\n",
            "É printavel True\n"
          ],
          "name": "stdout"
        }
      ]
    },
    {
      "cell_type": "code",
      "metadata": {
        "id": "7iCokH4YZMvA"
      },
      "source": [
        ""
      ],
      "execution_count": 30,
      "outputs": []
    },
    {
      "cell_type": "markdown",
      "metadata": {
        "id": "j0aRkICSaLce"
      },
      "source": [
        "##EX005\n",
        "Faça um programa que leia um número inteiro e mostre na tela o seu sucessor e seu antecessor."
      ]
    },
    {
      "cell_type": "code",
      "metadata": {
        "colab": {
          "base_uri": "https://localhost:8080/"
        },
        "id": "rw2zU0tvaYzY",
        "outputId": "913ffb2d-0172-4289-d978-dc193a5866c5"
      },
      "source": [
        "a = int(input(\"Digite um numero:\"))\n",
        "x = a-1\n",
        "y = a+1\n",
        "print('O seu antecessor é {} e o seu posterior é {}'.format(x,y))"
      ],
      "execution_count": 45,
      "outputs": [
        {
          "output_type": "stream",
          "text": [
            "Digite um numero:8\n",
            "O seu antecessor é 7 e o seu posterior é 9\n"
          ],
          "name": "stdout"
        }
      ]
    },
    {
      "cell_type": "code",
      "metadata": {
        "colab": {
          "base_uri": "https://localhost:8080/"
        },
        "id": "ecXGgWX-a7ID",
        "outputId": "2566698a-a25e-4f53-9729-faa9a378d352"
      },
      "source": [
        "a = int(input('Digite um numero:'))\n",
        "print('Analisando o valor {}, seu antecessor é {} e o sucessor é {}'.format(a, (a-1), (a+1)))"
      ],
      "execution_count": 46,
      "outputs": [
        {
          "output_type": "stream",
          "text": [
            "Digite um numero:2\n",
            "Analisando o valor 2, seu antecessor é 1 e o sucessor é 3\n"
          ],
          "name": "stdout"
        }
      ]
    },
    {
      "cell_type": "markdown",
      "metadata": {
        "id": "gqFcExWs6V8P"
      },
      "source": [
        "##EX006\n",
        "Crie um algoritmo que leia um numero e mostre o seu dobro, triplo e raiz quadrada.\n"
      ]
    },
    {
      "cell_type": "code",
      "metadata": {
        "colab": {
          "base_uri": "https://localhost:8080/"
        },
        "id": "IZYdmuHLdtn6",
        "outputId": "b929e5d9-41e8-48b7-bb87-d03402f23d69"
      },
      "source": [
        "a = int(input('Digite um numero:'))\n",
        "d = a*2\n",
        "t = a*3\n",
        "r = a ** (1/2)\n",
        "print('O dobro de {} é igual a {}.'.format(a,d))\n",
        "print('O triplo de {} é igual a {}.'.format(a,t))\n",
        "print('A raiz quadrada de {} é igual a {}.'.format(a,r))"
      ],
      "execution_count": 1,
      "outputs": [
        {
          "output_type": "stream",
          "text": [
            "Digite um numero:2\n",
            "O dobro de 2 é igual a 4.\n",
            "O triplo de 2 é igual a 6.\n",
            "A raiz quadrada de 2 é igual a 1.4142135623730951.\n"
          ],
          "name": "stdout"
        }
      ]
    },
    {
      "cell_type": "code",
      "metadata": {
        "colab": {
          "base_uri": "https://localhost:8080/"
        },
        "id": "diQwP7AP9nRX",
        "outputId": "be9744b9-4257-4e9b-e42f-17d6c875794f"
      },
      "source": [
        "# Para adicionar uma quebra de linha, basta acrescentar \\n.\n",
        "# Para limitar o numero de digitos decimais basta utilizar {:.2f} que significa duas casas flutuantes ou {:.3f} para tres casas flutuantes e assim por diante.\n",
        "\n",
        "a = int(input('Digite um numero:'))\n",
        "d = a*2\n",
        "t = a*3\n",
        "r = a ** (1/2)\n",
        "print(\"O dobro de {} é igual a {}.\".format(a,d))\n",
        "print(\"O triplo de {} é igual a {}.\\nA raiz quadrada de {} é igual a {:.2f}.\".format(a,t,a,r))"
      ],
      "execution_count": 3,
      "outputs": [
        {
          "output_type": "stream",
          "text": [
            "Digite um numero:4\n",
            "O dobro de 4 é igual a 8.\n",
            "O triplo de 4 é igual a 12.\n",
            "A raiz quadrada de 4 é igual a 2.0.\n"
          ],
          "name": "stdout"
        }
      ]
    },
    {
      "cell_type": "code",
      "metadata": {
        "colab": {
          "base_uri": "https://localhost:8080/"
        },
        "id": "wOn15Xv5_C2m",
        "outputId": "24fd9fb6-7c24-4c1f-d56b-2cf63f240d9a"
      },
      "source": [
        "a = int(input('Digite um numero:'))\n",
        "print('O dobro de {} é igual a {}.'.format(a, (a*2)))\n",
        "print('O triplo de {} é igual a {}.\\nA raiz de {} é igual a {:.3f}'.format(a, (a*3), a, (a**(1/2))))"
      ],
      "execution_count": 8,
      "outputs": [
        {
          "output_type": "stream",
          "text": [
            "Digite um numero:9\n",
            "O dobro de 9 é igual a 18.\n",
            "O triplo de 9 é igual a 27.\n",
            "A raiz de 9 é igual a 3.000\n"
          ],
          "name": "stdout"
        }
      ]
    },
    {
      "cell_type": "markdown",
      "metadata": {
        "id": "oLABQUlHCB8Q"
      },
      "source": [
        "##EX007\n",
        "Desenvolva um programa qua leia as duas notas de um aluno, calcule e mostre sua média."
      ]
    },
    {
      "cell_type": "code",
      "metadata": {
        "colab": {
          "base_uri": "https://localhost:8080/"
        },
        "id": "Tg5BBUpUAZR1",
        "outputId": "b842e4c4-9fca-40cb-c232-4ec107c2ecca"
      },
      "source": [
        "n1 = int(input('Digite sua primeira nota:'))\n",
        "n2 = int(input('Digite sua segunda nota:'))\n",
        "print('A média das suas notas é {}.'.format((n1+n2)/2))"
      ],
      "execution_count": 10,
      "outputs": [
        {
          "output_type": "stream",
          "text": [
            "Digite sua primeira nota:8\n",
            "Digite sua segunda nota:5\n",
            "A média das suas notas é 6.5.\n"
          ],
          "name": "stdout"
        }
      ]
    },
    {
      "cell_type": "markdown",
      "metadata": {
        "id": "amlt6Z0-Ez_A"
      },
      "source": [
        "##EX008\n",
        "Escreva um programa que leia um valor em metros e o exiba convertido em centimetros e milimetros."
      ]
    },
    {
      "cell_type": "code",
      "metadata": {
        "colab": {
          "base_uri": "https://localhost:8080/"
        },
        "id": "wkF9UT2lDe5m",
        "outputId": "98daced8-b57a-484f-d861-f674eab294b0"
      },
      "source": [
        "# km, hm, dam, m, dm, cm, mm\n",
        "medida = float(input('Uma distancia em metros: '))\n",
        "dm = medida * 10\n",
        "cm = medida * 100\n",
        "mm = medida * 1000\n",
        "dam = medida / 10\n",
        "hm = medida / 100\n",
        "km = medida / 1000\n",
        "print('dm = {}'.format(dm))\n",
        "print('cm = {}'.format(cm))\n",
        "print('mm = {}'.format(mm))\n",
        "print('dam = {}'.format(dam))\n",
        "print('hm = {}'.format(hm))\n",
        "print('km = {}'.format(km))"
      ],
      "execution_count": 14,
      "outputs": [
        {
          "output_type": "stream",
          "text": [
            "Uma distancia em metros: 1\n",
            "dm = 10.0\n",
            "cm = 100.0\n",
            "mm = 1000.0\n",
            "dam = 0.1\n",
            "hm = 0.01\n",
            "km = 0.001\n"
          ],
          "name": "stdout"
        }
      ]
    },
    {
      "cell_type": "markdown",
      "metadata": {
        "id": "QhGhkJM_K2yL"
      },
      "source": [
        "##EX009\n",
        "Faça um programa que leia um numero inteiro qualquer e mostre na tela a sua tabuada."
      ]
    },
    {
      "cell_type": "code",
      "metadata": {
        "colab": {
          "base_uri": "https://localhost:8080/"
        },
        "id": "TYfUabnuGzM7",
        "outputId": "2bc090e0-aa8d-4015-9e1b-10a6f4949dcf"
      },
      "source": [
        "n = int(input('DIgite um numero para ver sua tabuada: '))\n",
        "print('--------------')\n",
        "print('{} x 1 = {}'.format(n, (n*1)))\n",
        "print('{} x 2 = {}'.format(n, (n*2)))\n",
        "print('{} x 3 = {}'.format(n, (n*3)))\n",
        "print('{} x 5 = {}'.format(n, (n*4)))\n",
        "print('{} x 6 = {}'.format(n, (n*6)))\n",
        "print('{} x 7 = {}'.format(n, (n*7)))\n",
        "print('{} x 8 = {}'.format(n, (n*8)))\n",
        "print('{} x 9 = {}'.format(n, (n*9)))\n",
        "print('{} x 10 = {}'.format(n, (n*10)))\n",
        "print('--------------')"
      ],
      "execution_count": 18,
      "outputs": [
        {
          "output_type": "stream",
          "text": [
            "DIgite um numero para ver sua tabuada: 6\n",
            "--------------\n",
            "6 x 1 = 6\n",
            "6 x 2 = 12\n",
            "6 x 3 = 18\n",
            "6 x 5 = 24\n",
            "6 x 6 = 36\n",
            "6 x 7 = 42\n",
            "6 x 8 = 48\n",
            "6 x 9 = 54\n",
            "6 x 10 = 60\n",
            "--------------\n"
          ],
          "name": "stdout"
        }
      ]
    },
    {
      "cell_type": "markdown",
      "metadata": {
        "id": "jivGfXFJLQCu"
      },
      "source": [
        "##EX0010\n",
        "Crie um program que leia quanto dinheiro uma pessoa tem na carteira e mostre quantos Dolares ela pode comprar.\n",
        "\n",
        "Considere US$1.00 = R$5,30 (Dados do boletim focus de 07/06/2021\n"
      ]
    },
    {
      "cell_type": "code",
      "metadata": {
        "colab": {
          "base_uri": "https://localhost:8080/"
        },
        "id": "dJC8VI8EIzEL",
        "outputId": "d8b27bad-8068-4546-b9a4-4a87afa10119"
      },
      "source": [
        "real = float(input('Quanto dinheiro você tem na carteira? R$'))\n",
        "dolar = real / 5.30\n",
        "print('Com R${:.2f} você pode comprar US${:.2f}'.format(real, dolar))\n"
      ],
      "execution_count": 23,
      "outputs": [
        {
          "output_type": "stream",
          "text": [
            "Quanto dinheiro você tem na carteira? R$60\n",
            "Com R$60.00 você pode comprar US$11.32\n"
          ],
          "name": "stdout"
        }
      ]
    },
    {
      "cell_type": "markdown",
      "metadata": {
        "id": "ISinzoIpOIr5"
      },
      "source": [
        "##EX011\n",
        "Faça um programa que leia a largura e a altura de uma parede em metros, calcule a sua área e a quantidade de tinta necessária para pintá-la. Sabendo que cada litro de tinta pinta uma área de 2m²."
      ]
    },
    {
      "cell_type": "code",
      "metadata": {
        "colab": {
          "base_uri": "https://localhost:8080/"
        },
        "id": "l0dQUYanNNUf",
        "outputId": "7c857f83-c119-4dd7-9c94-3d7b8b01b204"
      },
      "source": [
        "l = float(input('Digite a largura da parede: '))\n",
        "a = float(input('Digite a altura da parede: '))\n",
        "rendimento = 2\n",
        "area = a * l\n",
        "print(f'A área da parede é de {area}m²')\n",
        "print(f'A quantidade de tinta necessária para pintar {area}m² é de {area/rendimento} litros ')\n"
      ],
      "execution_count": 3,
      "outputs": [
        {
          "output_type": "stream",
          "text": [
            "Digite a largura da parede: 2\n",
            "Digite a altura da parede: 2\n",
            "A área da parede é de 4.0m²\n",
            "A quantidade de tinta necessária para pintar 4.0m² é de 2.0 litros \n"
          ],
          "name": "stdout"
        }
      ]
    },
    {
      "cell_type": "markdown",
      "metadata": {
        "id": "ZS6bVJ6yU6pT"
      },
      "source": [
        "##EX063\n",
        "Escreva um programa que leia um número N inteiro qualquer e mostre na tela os N primeiros elementos de uma Sequência de Fibonacci. "
      ]
    },
    {
      "cell_type": "code",
      "metadata": {
        "colab": {
          "base_uri": "https://localhost:8080/"
        },
        "id": "lc47NbZ2VCEi",
        "outputId": "869a8df2-07a0-4eca-eaa3-fed2dbe7bcf5"
      },
      "source": [
        "print('-'*30)\n",
        "print('Sequência de Fibonacci')\n",
        "print('-'*30)\n",
        "n = int(input('Quantos termos você quer saber? '))\n",
        "t1 = 0\n",
        "t2 = 1\n",
        "print('~'*30)\n",
        "print('{} - {}'.format(t1, t2), end='')\n",
        "cont = 3\n",
        "while cont <= n:\n",
        "  t3 = t1 + t2\n",
        "  print(' - {}'.format(t3), end='')\n",
        "  t1 = t2\n",
        "  t2 = t3\n",
        "  cont += 1\n",
        "print(' - FIM')\n"
      ],
      "execution_count": 4,
      "outputs": [
        {
          "output_type": "stream",
          "text": [
            "------------------------------\n",
            "Sequência de Fibonacci\n",
            "------------------------------\n",
            "Quantos termos você quer saber? 10\n",
            "~~~~~~~~~~~~~~~~~~~~~~~~~~~~~~\n",
            "0 - 1 - 1 - 2 - 3 - 5 - 8 - 13 - 21 - 34 - FIM\n"
          ],
          "name": "stdout"
        }
      ]
    },
    {
      "cell_type": "code",
      "metadata": {
        "id": "dUjA0L6GYq2M"
      },
      "source": [
        ""
      ],
      "execution_count": null,
      "outputs": []
    }
  ]
}