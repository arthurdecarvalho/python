{
  "nbformat": 4,
  "nbformat_minor": 0,
  "metadata": {
    "colab": {
      "name": "Untitled30.ipynb2",
      "provenance": [],
      "authorship_tag": "ABX9TyP9q4MlUm1GnZcvpPtkrIA4",
      "include_colab_link": true
    },
    "kernelspec": {
      "name": "python3",
      "display_name": "Python 3"
    },
    "language_info": {
      "name": "python"
    }
  },
  "cells": [
    {
      "cell_type": "markdown",
      "metadata": {
        "id": "view-in-github",
        "colab_type": "text"
      },
      "source": [
        "<a href=\"https://colab.research.google.com/github/arthurdecarvalho/python/blob/main/Untitled30_ipynb2.ipynb\" target=\"_parent\"><img src=\"https://colab.research.google.com/assets/colab-badge.svg\" alt=\"Open In Colab\"/></a>"
      ]
    },
    {
      "cell_type": "markdown",
      "metadata": {
        "id": "kmmCiATLIg6G"
      },
      "source": [
        "##EX012\n",
        "Faça um algoritmo que leia o preço de um produto e mostre seu novo preço com 5% de desconto."
      ]
    },
    {
      "cell_type": "code",
      "metadata": {
        "colab": {
          "base_uri": "https://localhost:8080/"
        },
        "id": "JGgpXuThIbgX",
        "outputId": "734d73f7-b7fc-4b12-b872-ecf4478e3fbd"
      },
      "source": [
        "preco = float(input('Qual é o preço do produto? R$'))\n",
        "desconto = 5\n",
        "novo_preco = preco - (preco * desconto / 100)\n",
        "print(f'O produto que custava R${preco:.2f}, na promoção com desconto de {desconto}% vai custar R${novo_preco:.2f}')"
      ],
      "execution_count": 7,
      "outputs": [
        {
          "output_type": "stream",
          "text": [
            "Qual é o preço do produto? R$100\n",
            "O produto que custava R$100.00, na promoção com desconto de 5% vai custar R$95.00\n"
          ],
          "name": "stdout"
        }
      ]
    },
    {
      "cell_type": "code",
      "metadata": {
        "id": "q9Gv4fNsJiqn"
      },
      "source": [
        ""
      ],
      "execution_count": null,
      "outputs": []
    }
  ]
}