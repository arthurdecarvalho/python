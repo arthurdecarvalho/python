{
  "nbformat": 4,
  "nbformat_minor": 0,
  "metadata": {
    "colab": {
      "name": "while.ipynb",
      "provenance": [],
      "authorship_tag": "ABX9TyNjbann7SgfrQas69tsH1Z3",
      "include_colab_link": true
    },
    "kernelspec": {
      "name": "python3",
      "display_name": "Python 3"
    },
    "language_info": {
      "name": "python"
    }
  },
  "cells": [
    {
      "cell_type": "markdown",
      "metadata": {
        "id": "view-in-github",
        "colab_type": "text"
      },
      "source": [
        "<a href=\"https://colab.research.google.com/github/arthurdecarvalho/python/blob/main/while.ipynb\" target=\"_parent\"><img src=\"https://colab.research.google.com/assets/colab-badge.svg\" alt=\"Open In Colab\"/></a>"
      ]
    },
    {
      "cell_type": "code",
      "metadata": {
        "colab": {
          "base_uri": "https://localhost:8080/"
        },
        "id": "EqiNf_iUbHcq",
        "outputId": "ed1c4bc8-1500-48ce-d973-c1167005d2e0"
      },
      "source": [
        "contador = 0\n",
        "while (contador < 5):\n",
        "       print(contador)\n",
        "       contador   = contador + 1"
      ],
      "execution_count": 16,
      "outputs": [
        {
          "output_type": "stream",
          "text": [
            "0\n",
            "1\n",
            "2\n",
            "3\n",
            "4\n"
          ],
          "name": "stdout"
        }
      ]
    },
    {
      "cell_type": "code",
      "metadata": {
        "colab": {
          "base_uri": "https://localhost:8080/"
        },
        "id": "q9kfV3vWbtWe",
        "outputId": "d410b0c0-fe61-4a49-9735-5a6b67450466"
      },
      "source": [
        "x = 0\n",
        "while x < 5:\n",
        "  print(x)\n",
        "  x = x + 1"
      ],
      "execution_count": 19,
      "outputs": [
        {
          "output_type": "stream",
          "text": [
            "0\n",
            "1\n",
            "2\n",
            "3\n",
            "4\n"
          ],
          "name": "stdout"
        }
      ]
    },
    {
      "cell_type": "code",
      "metadata": {
        "colab": {
          "base_uri": "https://localhost:8080/"
        },
        "id": "RMH9oLdHh-Yu",
        "outputId": "f2dbbfb4-9e8f-4d17-a068-028ed836651f"
      },
      "source": [
        "print('-'*30)\n",
        "print('Sequência de Fibonacci')\n",
        "print('-'*30)\n",
        "n = int(input('Digite um numero: '))\n",
        "t0 = 0\n",
        "t1 = 1\n",
        "print('{} - {}'.format(t0, t1), end='')\n",
        "cont = 2\n",
        "while cont <= n:\n",
        "  t2 = t0 + t1\n",
        "  print(' - {}'.format(t2), end='')\n",
        "  t0 = t1\n",
        "  t1 = t2\n",
        "  cont += 1\n",
        "print(' - FIM')\n",
        "\n"
      ],
      "execution_count": 46,
      "outputs": [
        {
          "output_type": "stream",
          "text": [
            "------------------------------\n",
            "Sequência de Fibonacci\n",
            "------------------------------\n",
            "Digite um numero: 100\n",
            "0 - 1 - 1 - 2 - 3 - 5 - 8 - 13 - 21 - 34 - 55 - 89 - 144 - 233 - 377 - 610 - 987 - 1597 - 2584 - 4181 - 6765 - 10946 - 17711 - 28657 - 46368 - 75025 - 121393 - 196418 - 317811 - 514229 - 832040 - 1346269 - 2178309 - 3524578 - 5702887 - 9227465 - 14930352 - 24157817 - 39088169 - 63245986 - 102334155 - 165580141 - 267914296 - 433494437 - 701408733 - 1134903170 - 1836311903 - 2971215073 - 4807526976 - 7778742049 - 12586269025 - 20365011074 - 32951280099 - 53316291173 - 86267571272 - 139583862445 - 225851433717 - 365435296162 - 591286729879 - 956722026041 - 1548008755920 - 2504730781961 - 4052739537881 - 6557470319842 - 10610209857723 - 17167680177565 - 27777890035288 - 44945570212853 - 72723460248141 - 117669030460994 - 190392490709135 - 308061521170129 - 498454011879264 - 806515533049393 - 1304969544928657 - 2111485077978050 - 3416454622906707 - 5527939700884757 - 8944394323791464 - 14472334024676221 - 23416728348467685 - 37889062373143906 - 61305790721611591 - 99194853094755497 - 160500643816367088 - 259695496911122585 - 420196140727489673 - 679891637638612258 - 1100087778366101931 - 1779979416004714189 - 2880067194370816120 - 4660046610375530309 - 7540113804746346429 - 12200160415121876738 - 19740274219868223167 - 31940434634990099905 - 51680708854858323072 - 83621143489848422977 - 135301852344706746049 - 218922995834555169026 - 354224848179261915075 - FIM\n"
          ],
          "name": "stdout"
        }
      ]
    },
    {
      "cell_type": "code",
      "metadata": {
        "colab": {
          "base_uri": "https://localhost:8080/"
        },
        "id": "PuOYZGqTjgIw",
        "outputId": "f8e34251-cd9c-464c-d0d5-0c7eea45e492"
      },
      "source": [
        "contador = 0\n",
        "while (contador <=10):\n",
        "  print(contador)\n",
        "  contador += 1"
      ],
      "execution_count": 44,
      "outputs": [
        {
          "output_type": "stream",
          "text": [
            "0\n",
            "1\n",
            "2\n",
            "3\n",
            "4\n",
            "5\n",
            "6\n",
            "7\n",
            "8\n",
            "9\n",
            "10\n"
          ],
          "name": "stdout"
        }
      ]
    },
    {
      "cell_type": "code",
      "metadata": {
        "colab": {
          "base_uri": "https://localhost:8080/"
        },
        "id": "poU4Q3Banivl",
        "outputId": "39b100e3-834f-4c5f-9c24-1056cccaa906"
      },
      "source": [
        "a = int(0)\n",
        "b = int(1)\n",
        "while b < 10:\n",
        "  print(f'{a}, {b}', end='')\n",
        "  a = b\n",
        "  b = a + b"
      ],
      "execution_count": 25,
      "outputs": [
        {
          "output_type": "stream",
          "text": [
            "0, 11, 22, 44, 8"
          ],
          "name": "stdout"
        }
      ]
    },
    {
      "cell_type": "code",
      "metadata": {
        "colab": {
          "base_uri": "https://localhost:8080/"
        },
        "id": "rrqWietldWAT",
        "outputId": "6ea51c13-f6b9-4162-8c0d-675d142e47c7"
      },
      "source": [
        "a = 0\n",
        "b = 1\n",
        "cont = 2\n",
        "print(f'{a}, {b}', end='')\n",
        "while cont <= 10:\n",
        "  c = a + b\n",
        "  print(f', {c}', end='')\n",
        "  a = b\n",
        "  b = c\n",
        "  cont += 1\n",
        "print(', FIM')"
      ],
      "execution_count": 22,
      "outputs": [
        {
          "output_type": "stream",
          "text": [
            "0, 1, 1, 2, 3, 5, 8, 13, 21, 34, 55, FIM\n"
          ],
          "name": "stdout"
        }
      ]
    },
    {
      "cell_type": "code",
      "metadata": {
        "id": "6aq4pNG7iFEL"
      },
      "source": [
        ""
      ],
      "execution_count": null,
      "outputs": []
    }
  ]
}